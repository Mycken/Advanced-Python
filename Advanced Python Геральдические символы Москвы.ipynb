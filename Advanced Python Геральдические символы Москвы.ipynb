{
 "cells": [
  {
   "cell_type": "code",
   "execution_count": null,
   "metadata": {},
   "outputs": [],
   "source": [
    "import pandas as pd\n",
    "import pdfkit\n",
    "data = pd.read_csv(\"https://video.ittensive.com/python-advanced/data-102743-2019-11-13.utf.csv\", delimiter=\";\")\n",
    "html = '''<html>\n",
    "<head>\n",
    "    <title>Геральдические символы Москвы</title>\n",
    "    <meta charset=\"utf-8\"/>\n",
    "</head>\n",
    "<body>'''\n",
    "for i, item in data.iterrows():\n",
    "    if i == 0:\n",
    "        html += '<h1>' + item['Name'] + '</h1>'\n",
    "    else:\n",
    "        html += '<h1 style=\"page-break-before:always\">' + item['Name'] + '</h1>'\n",
    "    html += '''<p>\n",
    "        <img style=\"width:80%;margin-left:10%\"\n",
    "        src=\"https://op.mos.ru/MEDIA/showFile?id=''' + item['Picture'] + '''\">\n",
    "    </p>'''\n",
    "    html += '<p style=\"font-size:150%\">' + item['Description'] + '</p>'\n",
    "html += '</body></html>'\n",
    "\n",
    "config = pdfkit.configuration(wkhtmltopdf='C:/Program Files/wkhtmltopdf/bin/wkhtmltopdf.exe')\n",
    "options = {\n",
    "    'page-size': 'A4',\n",
    "    'header-right': '[page]'\n",
    "}\n",
    "pdfkit.from_string(html, 'C:/Users/mnenashev/Downloads/heraldic.pdf',\n",
    "                    configuration=config, options=options)\n",
    "print(\"All!\")"
   ]
  },
  {
   "cell_type": "code",
   "execution_count": null,
   "metadata": {},
   "outputs": [],
   "source": []
  }
 ],
 "metadata": {
  "kernelspec": {
   "display_name": "Python 3 (ipykernel)",
   "language": "python",
   "name": "python3"
  },
  "language_info": {
   "codemirror_mode": {
    "name": "ipython",
    "version": 3
   },
   "file_extension": ".py",
   "mimetype": "text/x-python",
   "name": "python",
   "nbconvert_exporter": "python",
   "pygments_lexer": "ipython3",
   "version": "3.10.6"
  }
 },
 "nbformat": 4,
 "nbformat_minor": 2
}
