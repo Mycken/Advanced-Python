{
 "cells": [
  {
   "cell_type": "code",
   "execution_count": 7,
   "metadata": {},
   "outputs": [
    {
     "name": "stdout",
     "output_type": "stream",
     "text": [
      "b'<!DOCTYPE html><html class=\"i-ua_js_no i-ua_css_standard\" lang=\"ru\"><head><meta charset=\"utf-8\"/><meta http-equiv=\"X-UA-Compatible\" content=\"IE=edge\"/><title>\\xd0\\x9e\\xd0\\xb9!</title><script>;(function(d,e,c,r){e=d.documentElement;c=\"className\";r=\"replace\";e[c]=e[c][r](\"i-ua_js_no\",\"i-ua_js_yes\");if(d.compatMode!=\"CSS1Compat\")e[c]=e[c][r](\"i-ua_css_standart\",\"i-ua_css_quirks\")})(document);;(function(d,e,c,n,w,v,f){e=d.documentElement;c=\"className\";n=\"createElementNS\";f=\"firstChild\";w=\"http://www.w3.org/2000/svg\";e[c]+=\" i-ua_svg_\"+(!!d[n]&&!!d[n](w,\"svg\").createSVGRect?\"yes\":\"no\");v=d.createElement(\"div\");v.innerHTML=\"<svg/>\";e[c]+=\" i-ua_inlinesvg_\"+((v[f]&&v[f].namespaceURI)==w?\"yes\":\"no\");})(document);</script><script src=\"captcha.error-counter.js?rnd=236442167520\" id=\"error-counter\" data-reqid=\"1576778592101026-2050340206713189931\"></script><!--[if gt IE 8]><!--><link rel=\"stylesheet\" href=\"captcha.min.css?rnd=236442167520\"/><!--<![endif]--><meta name=\"viewport\" content=\"width=device-width, initial-scale=1\"/></head><body class=\"b-page b-page_service_default b-page__body i-ua i-global i-bem\" data-bem=\\'{\"i-ua\":{},\"i-global\":{\"lang\":\"ru\",\"tld\":\"ru\",\"content-region\":\"ru\",\"click-host\":\"//clck.yandex.ru\",\"passport-host\":\"https://passport.yandex.ru\",\"pass-host\":\"https://pass.yandex.ru\",\"social-host\":\"https://social.yandex.ru\",\"export-host\":\"https://export.yandex.ru\",\"login\":\"\",\"lego-static-host\":\"https://yastatic.net/lego/2.10-142\"}}\\'><div class=\"central\"><div class=\"logo-wrapper\"><a class=\"logo-wrapper__logo logo-wrapper__logo_name_default\" href=\"https://www.yandex.ru\" title=\"\\xd0\\xaf\\xd0\\xbd\\xd0\\xb4\\xd0\\xb5\\xd0\\xba\\xd1\\x81\"></a></div><p class=\"text-wrapper text-wrapper_info\">\\xd0\\x9d\\xd0\\xb0\\xd0\\xbc \\xd0\\xbe\\xd1\\x87\\xd0\\xb5\\xd0\\xbd\\xd1\\x8c \\xd0\\xb6\\xd0\\xb0\\xd0\\xbb\\xd1\\x8c, \\xd0\\xbd\\xd0\\xbe \\xd0\\xb7\\xd0\\xb0\\xd0\\xbf\\xd1\\x80\\xd0\\xbe\\xd1\\x81\\xd1\\x8b, \\xd0\\xbf\\xd0\\xbe\\xd1\\x81\\xd1\\x82\\xd1\\x83\\xd0\\xbf\\xd0\\xb8\\xd0\\xb2\\xd1\\x88\\xd0\\xb8\\xd0\\xb5 \\xd1\\x81 \\xd0\\xb2\\xd0\\xb0\\xd1\\x88\\xd0\\xb5\\xd0\\xb3\\xd0\\xbe IP-\\xd0\\xb0\\xd0\\xb4\\xd1\\x80\\xd0\\xb5\\xd1\\x81\\xd0\\xb0, \\xd0\\xbf\\xd0\\xbe\\xd1\\x85\\xd0\\xbe\\xd0\\xb6\\xd0\\xb8 \\xd0\\xbd\\xd0\\xb0 \\xd0\\xb0\\xd0\\xb2\\xd1\\x82\\xd0\\xbe\\xd0\\xbc\\xd0\\xb0\\xd1\\x82\\xd0\\xb8\\xd1\\x87\\xd0\\xb5\\xd1\\x81\\xd0\\xba\\xd0\\xb8\\xd0\\xb5.</p><form class=\"form form_error_no\" method=\"get\" action=\"/checkcaptcha\" onsubmit=\"ym(10630330, \\'reachGoal\\', \\'enter_captcha_value\\', { \\'req_id\\': \\'1576778592101026-2050340206713189931\\' }); return true;\"><input class=\"form__key\" type=\"hidden\" name=\"key\" value=\"00AlFxIxfAe36nRAeZAgubuscTaKZtnE_0/1576778592/98b0fcaaffa0b73d17cdde961cc0d4fa_217b6e3bdbdc317946a84c73d2c8bbcd\"/><input class=\"form__retpath\" type=\"hidden\" name=\"retpath\" value=\"https://beru.ru/search?cvredirect=2&amp;suggest_reqId=27865074762321487883702093457804&amp;text=%D1%81%D0%B0%D1%80%D0%B0%D1%82%D0%BE%D0%B2_74e06f1506639beaf24fc3369fd569a6\"/><div class=\"captcha-wrapper\"><div class=\"captcha i-bem\" data-bem=\\'{\"captcha\":{\"captchaSound\":\"https://beru.ru/captcha/voice?aHR0cHM6Ly9leHQuY2FwdGNoYS55YW5kZXgubmV0L3ZvaWNlP2tleT0wMEFsRnhJeGZBZTM2blJBZVpBZ3VidXNjVGFLWnRuRQ,,_0/1576778592/98b0fcaaffa0b73d17cdde961cc0d4fa_60cd3db4e662d17c325f6b19296626d3\",\"introSound\":\"https://beru.ru/captcha/voiceintro?aHR0cHM6Ly9leHQuY2FwdGNoYS55YW5kZXgubmV0L3N0YXRpYy9pbnRyby1ydS5tcDM,_0/1576778592/98b0fcaaffa0b73d17cdde961cc0d4fa_6b72a3d65d00b22b1458d55ee8fccb26\"}}\\'><div class=\"captcha__image\"><img src=\"https://beru.ru/captchaimg?aHR0cHM6Ly9leHQuY2FwdGNoYS55YW5kZXgubmV0L2ltYWdlP2tleT0wMEFsRnhJeGZBZTM2blJBZVpBZ3VidXNjVGFLWnRuRSZzZXJ2aWNlPW1hcmtldGJsdWU,_0/1576778592/98b0fcaaffa0b73d17cdde961cc0d4fa_4b1f91e53165803d43923f2c5d26fcad\"/></div><div class=\"captcha__play-button\"><div class=\"captcha__play\"><div class=\"captcha__play-image\"></div><div class=\"captcha__play-text\">\\xd0\\x9f\\xd1\\x80\\xd0\\xbe\\xd0\\xb8\\xd0\\xb7\\xd0\\xbd\\xd0\\xb5\\xd1\\x81\\xd1\\x82\\xd0\\xb8</div><div class=\"captcha__playing-text\">\\xd0\\x92\\xd0\\xbe\\xd1\\x81\\xd0\\xbf\\xd1\\x80\\xd0\\xbe\\xd0\\xb8\\xd0\\xb7\\xd0\\xb2\\xd0\\xbe\\xd0\\xb4\\xd0\\xb8\\xd1\\x82\\xd1\\x81\\xd1\\x8f</div></div></div></div></div><div class=\"actions i-bem\" data-bem=\\'{\"actions\":{}}\\'><div class=\"actions__action-button actions__button actions__button_action_refresh\"><div class=\"actions__button-image\"></div><div>\\xd0\\x94\\xd1\\x80\\xd1\\x83\\xd0\\xb3\\xd0\\xbe\\xd0\\xb9 \\xd0\\xba\\xd0\\xbe\\xd0\\xb4</div></div><div class=\"actions__action-button actions__button actions__button_action_audio\"><div class=\"actions__button-image\"></div><div>\\xd0\\x90\\xd1\\x83\\xd0\\xb4\\xd0\\xb8\\xd0\\xbe</div></div><div class=\"actions__action-button actions__button actions__button_action_text\"><div class=\"actions__button-image\"></div><div>\\xd0\\x98\\xd0\\xb7\\xd0\\xbe\\xd0\\xb1\\xd1\\x80\\xd0\\xb0\\xd0\\xb6\\xd0\\xb5\\xd0\\xbd\\xd0\\xb8\\xd0\\xb5</div></div></div><div class=\"input-wrapper input-wrapper_focused i-bem\" data-bem=\\'{\"input-wrapper\":{}}\\'><div class=\"input-wrapper__input-field\"><input class=\"input-wrapper__content\" name=\"rep\" autofocus=\"yes\" autocomplete=\"off\"/><div class=\"input-wrapper__placeholder\">\\xd0\\x92\\xd0\\xb2\\xd0\\xb5\\xd0\\xb4\\xd0\\xb8\\xd1\\x82\\xd0\\xb5 \\xd0\\xba\\xd0\\xbe\\xd0\\xb4</div></div><div class=\"input-wrapper__wrong-text\">\\xd0\\x9d\\xd0\\xb5\\xd0\\xb2\\xd0\\xb5\\xd1\\x80\\xd0\\xbd\\xd0\\xbe, \\xd0\\xbf\\xd0\\xbe\\xd0\\xbf\\xd1\\x80\\xd0\\xbe\\xd0\\xb1\\xd1\\x83\\xd0\\xb9\\xd1\\x82\\xd0\\xb5 \\xd0\\xb5\\xd1\\x89\\xd0\\xb5 \\xd1\\x80\\xd0\\xb0\\xd0\\xb7</div></div><button class=\"submit\">\\xd0\\x9e\\xd1\\x82\\xd0\\xbf\\xd1\\x80\\xd0\\xb0\\xd0\\xb2\\xd0\\xb8\\xd1\\x82\\xd1\\x8c \\xd0\\xb8 \\xd0\\xbf\\xd1\\x80\\xd0\\xbe\\xd0\\xb4\\xd0\\xbe\\xd0\\xbb\\xd0\\xb6\\xd0\\xb8\\xd1\\x82\\xd1\\x8c</button></form><div class=\"text-wrapper text-wrapper_help\"><span>\\xd0\\x95\\xd1\\x81\\xd0\\xbb\\xd0\\xb8 \\xd1\\x83 \\xd0\\xb2\\xd0\\xb0\\xd1\\x81 \\xd0\\xb2\\xd0\\xbe\\xd0\\xb7\\xd0\\xbd\\xd0\\xb8\\xd0\\xba\\xd0\\xbb\\xd0\\xb8 \\xd0\\xbf\\xd1\\x80\\xd0\\xbe\\xd0\\xb1\\xd0\\xbb\\xd0\\xb5\\xd0\\xbc\\xd1\\x8b, \\xd0\\xbf\\xd0\\xbe\\xd0\\xb6\\xd0\\xb0\\xd0\\xbb\\xd1\\x83\\xd0\\xb9\\xd1\\x81\\xd1\\x82\\xd0\\xb0, \\xd0\\xb2\\xd0\\xbe\\xd1\\x81\\xd0\\xbf\\xd0\\xbe\\xd0\\xbb\\xd1\\x8c\\xd0\\xb7\\xd1\\x83\\xd0\\xb9\\xd1\\x82\\xd0\\xb5\\xd1\\x81\\xd1\\x8c </span><a class=\"link i-bem\" tabindex=\"0\" href=\"https://yandex.ru/support/captcha/\" onclick=\"ym(10630330, \\'reachGoal\\', \\'support_complain\\', { \\'req_id\\': \\'1576778592101026-2050340206713189931\\' }); return true;\" data-bem=\\'{\"link\":{}}\\'>\\xd1\\x84\\xd0\\xbe\\xd1\\x80\\xd0\\xbc\\xd0\\xbe\\xd0\\xb9 \\xd0\\xbe\\xd0\\xb1\\xd1\\x80\\xd0\\xb0\\xd1\\x82\\xd0\\xbd\\xd0\\xbe\\xd0\\xb9 \\xd1\\x81\\xd0\\xb2\\xd1\\x8f\\xd0\\xb7\\xd0\\xb8.</a></div></div><!--[if gt IE 8]><!--><script src=\"https://yastatic.net/jquery/2.2.3/jquery.min.js\"></script><!--<![endif]--><script src=\"captcha.min.js?rnd=236442167520\" id=\"main-script\" data-verochka-params=\"{&quot;req_id&quot;: &quot;1576778592101026-2050340206713189931&quot;, &quot;service&quot;: &quot;marketblue&quot;}\"></script><script src=\"https://yastatic.net/howler/2.0.0/howler.min.js\"></script>\\n<!-- Yandex.Metrika counter -->\\n<script type=\"text/javascript\" >\\n   (function(m,e,t,r,i,k,a){m[i]=m[i]||function(){(m[i].a=m[i].a||[]).push(arguments)};\\n   m[i].l=1*new Date();k=e.createElement(t),a=e.getElementsByTagName(t)[0],k.async=1,k.src=r,a.parentNode.insertBefore(k,a)})\\n   (window, document, \"script\", \"https://mc.yandex.ru/metrika/tag.js\", \"ym\");\\n\\n   ym(10630330, \"init\", {\\n        clickmap:true,\\n        trackLinks:true,\\n        accurateTrackBounce:true,\\n        webvisor:true,\\n        ut:\"noindex\",\\n        params:{ \"service\": \"marketblue\", \"req_id\": \"1576778592101026-2050340206713189931\", \"ident_type\": \"1\" }\\n   });\\n</script>\\n<noscript><div><img src=\"https://mc.yandex.ru/watch/10630330?ut=noindex\" style=\"position:absolute; left:-9999px;\" alt=\"\" /></div></noscript>\\n<!-- /Yandex.Metrika counter -->\\n</body></html>'\n"
     ]
    }
   ],
   "source": [
    "import requests\n",
    "from bs4 import BeautifulSoup\n",
    "headers = {\"User-Agent\": \"Mozilla/5.0 (Windows NT 6.1; WOW64) AppleWebKit/537.36 (KHTML, like Gecko) Chrome/78.0.3904.97 YaBrowser/19.12.0.358 Yowser/2.5 Safari/537.36\"}\n",
    "r = requests.get(\"https://beru.ru/search?cvredirect=2&suggest_reqId=27865074762321487883702093457804&text=%D1%81%D0%B0%D1%80%D0%B0%D1%82%D0%BE%D0%B2\", headers=headers)\n",
    "html = BeautifulSoup(r.content)\n",
    "print (r.content)\n",
    "links = html.find_all(\"a\", {\"class\": \"grid-snippet__react-link\"})\n",
    "link_263 = ''\n",
    "link_452 = ''\n",
    "for link in links:\n",
    "    if str(link).find(\"Саратов 263\") > -1:\n",
    "        link_263 = link[\"href\"]\n",
    "    if str(link).find(\"Саратов 452\") > -1:\n",
    "        link_452 = link[\"href\"]\n",
    "\n",
    "def find_volume (link):\n",
    "    r = requests.get(\"https://beru.ru\" + link)\n",
    "    html = BeautifulSoup(r.content)\n",
    "    volume = html.find_all(\"span\", {\"class\": \"_112Tad-7AP\"})\n",
    "    return int(''.join(i for i in volume[2].get_text() if i.isdigit()))\n",
    "\n",
    "if link_263 and link_452:\n",
    "    volume_263 = find_volume(link_263)\n",
    "    volume_452 = find_volume(link_452)\n",
    "    diff = max(volume_263, volume_452) - min(volume_263, volume_452)\n",
    "    print (diff)"
   ]
  }
 ],
 "metadata": {
  "kernelspec": {
   "display_name": "Python 3 (ipykernel)",
   "language": "python",
   "name": "python3"
  },
  "language_info": {
   "codemirror_mode": {
    "name": "ipython",
    "version": 3
   },
   "file_extension": ".py",
   "mimetype": "text/x-python",
   "name": "python",
   "nbconvert_exporter": "python",
   "pygments_lexer": "ipython3",
   "version": "3.9.13"
  }
 },
 "nbformat": 4,
 "nbformat_minor": 2
}
